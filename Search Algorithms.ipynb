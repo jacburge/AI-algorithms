{
 "cells": [
  {
   "cell_type": "code",
   "execution_count": 142,
   "metadata": {
    "collapsed": false
   },
   "outputs": [],
   "source": [
    "### Implement the 8-puzzle game for bfs, dfs, and a-star\n",
    "import numpy as np\n",
    "# from resource import ru_maxrss\n",
    "import sys\n",
    "from random import shuffle"
   ]
  },
  {
   "cell_type": "code",
   "execution_count": 143,
   "metadata": {
    "collapsed": false
   },
   "outputs": [
    {
     "name": "stdout",
     "output_type": "stream",
     "text": [
      "[1, 3, 0, 8, 5, 2, 7, 6, 4]\n"
     ]
    }
   ],
   "source": [
    "# Initialize random board\n",
    "initState = list(range(9))\n",
    "shuffle(initState)\n",
    "print(initState)"
   ]
  },
  {
   "cell_type": "code",
   "execution_count": 173,
   "metadata": {
    "collapsed": false
   },
   "outputs": [
    {
     "name": "stdout",
     "output_type": "stream",
     "text": [
      "Initial board:\n",
      "[4, 8, 2, 1, 3, 7, 6, 0, 5]\n",
      "Goal state:\n",
      "[0, 1, 2, 3, 4, 5, 6, 7, 8]\n",
      "Initial board as matrix:\n",
      "[[4 8 2]\n",
      " [1 3 7]\n",
      " [6 0 5]]\n",
      "Index location of blank space:\n",
      "7\n"
     ]
    }
   ],
   "source": [
    "## Initialize random board and check if solvable. If not, randomize again.\n",
    "goalState = [0,1,2,3,4,5,6,7,8]\n",
    "initState = list(range(9))\n",
    "shuffle(initState)\n",
    "if initState == goalState:\n",
    "    shuffle(initState)\n",
    "\n",
    "count = 0\n",
    "def InversionsCount(x):\n",
    "    global count\n",
    "    midsection = round(len(x) / 2)\n",
    "    leftArray = x[:midsection]\n",
    "    rightArray = x[midsection:]\n",
    "    if len(x) > 1:\n",
    "        InversionsCount(leftArray)\n",
    "        InversionsCount(rightArray)\n",
    "        i, j = 0, 0\n",
    "        a = leftArray; b = rightArray\n",
    "        for k in range(len(a) + len(b) + 1):\n",
    "            if a[i] <= b[j]:\n",
    "                x[k] = a[i]\n",
    "                i += 1\n",
    "                if i == len(a) and j != len(b):\n",
    "                    while j != len(b):\n",
    "                        k +=1\n",
    "                        x[k] = b[j]\n",
    "                        j += 1\n",
    "                    break\n",
    "            elif a[i] > b[j]:\n",
    "                x[k] = b[j]\n",
    "                count += (len(a) - i)\n",
    "                j += 1\n",
    "                if j == len(b) and i != len(a):\n",
    "                    while i != len(a):\n",
    "                        k+= 1\n",
    "                        x[k] = a[i]\n",
    "                        i += 1                    \n",
    "                    break   \n",
    "\n",
    "\n",
    "InversionsCount(initState[:])\n",
    "while count%2 != 0:\n",
    "    shuffle(initState)\n",
    "    if initState == goalState:\n",
    "        shuffle(initState)\n",
    "    InversionsCount(initState)\n",
    "    \n",
    "print(\"Initial board:\")\n",
    "print(initState)\n",
    "blank = initState.index(0)\n",
    "print('Goal state:')\n",
    "print(goalState)\n",
    "print('Initial board as matrix:')\n",
    "print(np.array(initState).reshape(3,3))\n",
    "print('Index location of blank space:')\n",
    "print(blank)"
   ]
  },
  {
   "cell_type": "code",
   "execution_count": 152,
   "metadata": {
    "collapsed": false
   },
   "outputs": [],
   "source": [
    "# method = sys.argv[1]\n",
    "# initState = np.array(sys.argv[2]).reshape(3,3)\n",
    "# goalState = np.array([0,1,2,3,4,5,6,7,8]).reshape(3,3)\n",
    "\n",
    "# method = 'bfs'\n",
    "# initState = [1,5,2,3,4,0,6,7,8]\n",
    "# goalState = [0,1,2,3,4,5,6,7,8]\n",
    "# initState = np.array(initList).reshape(3,3)\n",
    "# blank = np.argwhere(initState==0).tolist()"
   ]
  },
  {
   "cell_type": "code",
   "execution_count": null,
   "metadata": {
    "collapsed": false
   },
   "outputs": [],
   "source": [
    "### Move the blank to a new state\n",
    "\n",
    "def up(state):\n",
    "#  blank moves 3 steps left\n",
    "    moveBlank = state[:]\n",
    "    i = moveBlank.index(0)\n",
    "    moveBlank[i], moveBlank[i-3] = moveBlank[i-3], moveBlank[i]\n",
    "    return moveBlank\n",
    "\n",
    "def down(state):\n",
    "#  blank moves 3 steps right\n",
    "    moveBlank = state[:]\n",
    "    i = moveBlank.index(0)\n",
    "    moveBlank[i], moveBlank[i+3] = moveBlank[i+3], moveBlank[i]\n",
    "    return moveBlank\n",
    "\n",
    "def left(state):\n",
    "#  blank moves 1 step left\n",
    "    moveBlank = state[:]\n",
    "    i = moveBlank.index(0)\n",
    "    moveBlank[i], moveBlank[i-1] = moveBlank[i-1], moveBlank[i]\n",
    "    return moveBlank\n",
    "\n",
    "def right(state):\n",
    "#  blank moves 1 step right\n",
    "    moveBlank = state[:]\n",
    "    i = moveBlank.index(0)\n",
    "    moveBlank[i], moveBlank[i+1] = moveBlank[i+1], moveBlank[i]\n",
    "    return moveBlank\n",
    "\n",
    "print(initState)\n",
    "changeState = initState\n",
    "print(down(changeState))\n",
    "print(initState)"
   ]
  },
  {
   "cell_type": "code",
   "execution_count": null,
   "metadata": {
    "collapsed": false
   },
   "outputs": [],
   "source": [
    "### Identify adjacent neighbors of the blank\n",
    "def findNeighbors(state):\n",
    "    neighborState = {}\n",
    "    i = state.index(0)\n",
    "    #Check edges\n",
    "    if i not in (0,3,6): #left side\n",
    "        neighborState['left'] = left(state)\n",
    "    if i not in (0,1,2): #up\n",
    "        neighborState['up'] = up(state)\n",
    "    if i not in (2,5,8): #right\n",
    "        neighborState['right'] = right(state)\n",
    "    if i not in (6,7,8): #down\n",
    "        neighborState['down'] = down(state)\n",
    "    return neighborState\n",
    "\n",
    "## Test\n",
    "print('Initial board state: ')\n",
    "print(initState)\n",
    "print('location of blank space: ')\n",
    "print(blank)\n",
    "print('neighbors of blank space: ')\n",
    "print(findNeighbors(initState))"
   ]
  },
  {
   "cell_type": "code",
   "execution_count": null,
   "metadata": {
    "collapsed": true
   },
   "outputs": [],
   "source": [
    "def bfs(initState):\n",
    "    print(\"Initial state...\")\n",
    "    print(initState)\n",
    "    init = initState[:]\n",
    "    frontier = [init]\n",
    "    explored = []\n",
    "    neighbors = []\n",
    "    path_to_goal = []\n",
    "    cost_of_path = 0\n",
    "    while len(frontier) > 0:\n",
    "        state = frontier[0] \n",
    "        frontier.pop(0)\n",
    "        explored.append(state)\n",
    "        if state == goalState:\n",
    "            return \"Success!\" + \\\n",
    "                    \"final State: \" + state + \\\n",
    "                    \"path_to_goal: \" + path_to_goal + \\\n",
    "                    \"cost_of_path: \" + cost_of_path\n",
    "        for path, neighbor in findNeighbors(state).items():\n",
    "            if neighbor not in frontier and neighbor not in explored:\n",
    "                frontier.append(neighbor)\n",
    "                neighbors.append(path)\n",
    "        path_to_goal.append(neighbors[0])\n",
    "        neighbors.pop(0)\n",
    "        cost_of_path += 1\n",
    "        print('path:')\n",
    "        print(path_to_goal)\n",
    "        print('cost of path:')\n",
    "        print(cost_of_path)\n",
    "    return 'Failure'\n",
    " "
   ]
  },
  {
   "cell_type": "code",
   "execution_count": null,
   "metadata": {
    "collapsed": false
   },
   "outputs": [],
   "source": [
    "bfs(initState)"
   ]
  },
  {
   "cell_type": "code",
   "execution_count": null,
   "metadata": {
    "collapsed": false
   },
   "outputs": [],
   "source": [
    "print(\"Initial state...\")\n",
    "print(initState)\n",
    "init = initState[:]\n",
    "print(\"Frontier...\")\n",
    "frontier = [init]\n",
    "print(frontier)\n",
    "print('Length of Frontier...')\n",
    "print(len(frontier))\n",
    "explored = []\n",
    "neighbors = []\n",
    "path_to_goal = []\n",
    "cost_of_path = 0\n",
    "state = frontier[0]\n",
    "frontier.pop(0)\n",
    "print('Updated length of Frontier...')\n",
    "print(len(frontier))\n",
    "print('State...')\n",
    "print(state)\n",
    "explored.append(state)\n",
    "print('Explored...')\n",
    "print(explored)\n",
    "print('Find Neighbors...')\n",
    "for path, neighbor in findNeighbors(state).items():\n",
    "    if neighbor not in frontier and neighbor not in explored:\n",
    "        frontier.append(neighbor)\n",
    "        neighbors.append(path)\n",
    "path_to_goal.append(neighbors[0])\n",
    "cost_of_path += 1\n",
    "print('Updated frontier...')\n",
    "print(frontier)\n",
    "print('neighbors...')\n",
    "print(neighbors)\n",
    "print('Updated length of Frontier...')\n",
    "print(len(frontier))\n",
    "print('path...')\n",
    "print(path_to_goal)\n",
    "print('cost of path...')\n",
    "print(cost_of_path)\n",
    "print('ROUND 2!')\n",
    "state = frontier[0]\n",
    "frontier.pop(0)\n",
    "neighbors.pop(0)\n",
    "print('Updated length of Frontier...')\n",
    "print(len(frontier))\n",
    "print('State...')\n",
    "print(state)\n",
    "explored.append(state)\n",
    "print('Explored...')\n",
    "print(explored)\n",
    "print('Find Neighbors...')\n",
    "for path, neighbor in findNeighbors(state).items():\n",
    "    if neighbor not in frontier and neighbor not in explored:\n",
    "        frontier.append(neighbor)\n",
    "        neighbors.append(path)\n",
    "path_to_goal.append(neighbors[0])\n",
    "cost_of_path += 1\n",
    "print('Updated frontier...')\n",
    "print(frontier)\n",
    "print('neighbors...')\n",
    "print(neighbors)\n",
    "print('Updated length of Frontier...')\n",
    "print(len(frontier))\n",
    "print('path...')\n",
    "print(path_to_goal)\n",
    "print('cost of path...')\n",
    "print(cost_of_path)\n",
    "print('ROUND 3!')\n",
    "state = frontier[0]\n",
    "frontier.pop(0)\n",
    "neighbors.pop(0)\n",
    "print('Updated length of Frontier...')\n",
    "print(len(frontier))\n",
    "print('State...')\n",
    "print(state)\n",
    "explored.append(state)\n",
    "print('Explored...')\n",
    "print(explored)\n",
    "print('Find Neighbors...')\n",
    "for path, neighbor in findNeighbors(state).items():\n",
    "    if neighbor not in frontier and neighbor not in explored:\n",
    "        frontier.append(neighbor)\n",
    "        neighbors.append(path)\n",
    "path_to_goal.append(neighbors[0])\n",
    "cost_of_path += 1\n",
    "print('Updated frontier...')\n",
    "print(frontier)\n",
    "print('neighbors...')\n",
    "print(neighbors)\n",
    "print('Updated length of Frontier...')\n",
    "print(len(frontier))\n",
    "print('path...')\n",
    "print(path_to_goal)\n",
    "print('cost of path...')\n",
    "print(cost_of_path)"
   ]
  },
  {
   "cell_type": "code",
   "execution_count": null,
   "metadata": {
    "collapsed": false
   },
   "outputs": [],
   "source": [
    "testlist = [0,1,2,3,4,5]\n",
    "x = testlist[0]\n",
    "print(x)\n",
    "testlist.pop(0)\n",
    "print(testlist)"
   ]
  },
  {
   "cell_type": "code",
   "execution_count": null,
   "metadata": {
    "collapsed": false
   },
   "outputs": [],
   "source": [
    "print(state)"
   ]
  },
  {
   "cell_type": "code",
   "execution_count": null,
   "metadata": {
    "collapsed": false
   },
   "outputs": [],
   "source": [
    "state == goalState"
   ]
  },
  {
   "cell_type": "code",
   "execution_count": null,
   "metadata": {
    "collapsed": false
   },
   "outputs": [],
   "source": [
    "test = [[0,1,2,3,4,5,6,7,8],[1,2,3,7,4,0,6,5,8]]\n",
    "teststate = test[0]\n",
    "teststate == goalState"
   ]
  },
  {
   "cell_type": "code",
   "execution_count": null,
   "metadata": {
    "collapsed": true
   },
   "outputs": [],
   "source": [
    "int getInvCount(int arr[])\n",
    "{\n",
    "    int inv_count = 0;\n",
    "    for (int i = 0; i < 9 - 1; i++)\n",
    "        for (int j = i+1; j < 9; j++)\n",
    "             // Value 0 is used for empty space\n",
    "             if (arr[j] && arr[i] &&  arr[i] > arr[j])\n",
    "                  inv_count++;\n",
    "    return inv_count;\n",
    "}\n",
    "\n",
    "bool isSolvable(int puzzle[3][3])\n",
    "{\n",
    "    // Count inversions in given 8 puzzle\n",
    "    int invCount = getInvCount((int *)puzzle);\n",
    "\n",
    "    // return true if inversion count is even.\n",
    "    return (invCount%2 == 0);\n",
    "}"
   ]
  },
  {
   "cell_type": "code",
   "execution_count": null,
   "metadata": {
    "collapsed": false
   },
   "outputs": [],
   "source": []
  }
 ],
 "metadata": {
  "anaconda-cloud": {},
  "kernelspec": {
   "display_name": "Python 3",
   "language": "python",
   "name": "python3"
  },
  "language_info": {
   "codemirror_mode": {
    "name": "ipython",
    "version": 3
   },
   "file_extension": ".py",
   "mimetype": "text/x-python",
   "name": "python",
   "nbconvert_exporter": "python",
   "pygments_lexer": "ipython3",
   "version": "3.6.0"
  }
 },
 "nbformat": 4,
 "nbformat_minor": 1
}
