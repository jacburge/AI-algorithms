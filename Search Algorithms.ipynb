{
 "cells": [
  {
   "cell_type": "code",
   "execution_count": 4,
   "metadata": {
    "collapsed": false
   },
   "outputs": [],
   "source": [
    "### Implement the 8-puzzle game for bfs, dfs, and a-star\n",
    "import numpy as np\n",
    "# from resource import ru_maxrss\n",
    "import sys"
   ]
  },
  {
   "cell_type": "code",
   "execution_count": 65,
   "metadata": {
    "collapsed": false
   },
   "outputs": [
    {
     "name": "stdout",
     "output_type": "stream",
     "text": [
      "[1, 5, 2, 3, 4, 0, 6, 7, 8]\n",
      "[0, 1, 2, 3, 4, 5, 6, 7, 8]\n",
      "[[1 5 2]\n",
      " [3 4 0]\n",
      " [6 7 8]]\n",
      "5\n"
     ]
    }
   ],
   "source": [
    "# method = sys.argv[0]\n",
    "# initState = np.array(sys.argv[1]).reshape(3,3)\n",
    "# goalState = np.array([0,1,2,3,4,5,6,7,8]).reshape(3,3)\n",
    "\n",
    "method = 'bfs'\n",
    "initState = [1,5,2,3,4,0,6,7,8]\n",
    "goalState = [0,1,2,3,4,5,6,7,8]\n",
    "# initState = np.array(initList).reshape(3,3)\n",
    "# blank = np.argwhere(initState==0).tolist()\n",
    "blank = initState.index(0)\n",
    "print(initState)\n",
    "print(goalState)\n",
    "print(np.array(initState).reshape(3,3))\n",
    "print(blank)"
   ]
  },
  {
   "cell_type": "code",
   "execution_count": 66,
   "metadata": {
    "collapsed": false
   },
   "outputs": [
    {
     "name": "stdout",
     "output_type": "stream",
     "text": [
      "original board state: \n",
      "[1, 5, 2, 3, 4, 0, 6, 7, 8]\n",
      "location of blank space: \n",
      "5\n",
      "neighbors of blank space: \n",
      "{'down': [1, 5, 2, 3, 0, 4, 6, 7, 8], 'up': [1, 5, 2, 3, 0, 4, 6, 7, 8], 'left': [1, 5, 2, 3, 0, 4, 6, 7, 8]}\n"
     ]
    }
   ],
   "source": [
    "### Identify adjacent neighbors of the blank\n",
    "def findNeighbors(state):\n",
    "    neighborState = {}\n",
    "    i = state.index(0)\n",
    "    #Check edges\n",
    "    if i not in (0,3,6): #left side\n",
    "        neighborState['left'] = left(state)\n",
    "    if i not in (0,1,2): #up\n",
    "        neighborState['up'] = up(state)\n",
    "    if i not in (2,5,8): #right\n",
    "        neighborState['right'] = right(state)\n",
    "    if i not in (6,7,8): #down\n",
    "        neighborState['down'] = down(state)\n",
    "    return neighborState\n",
    "\n",
    "## Test\n",
    "print('original board state: ')\n",
    "print(initState)\n",
    "print('location of blank space: ')\n",
    "print(blank)\n",
    "print('neighbors of blank space: ')\n",
    "print(findNeighbors(initState))"
   ]
  },
  {
   "cell_type": "code",
   "execution_count": 46,
   "metadata": {
    "collapsed": false
   },
   "outputs": [
    {
     "name": "stdout",
     "output_type": "stream",
     "text": [
      "[1, 5, 2, 3, 4, 0, 6, 7, 8]\n"
     ]
    },
    {
     "data": {
      "text/plain": [
       "[1, 5, 2, 3, 4, 8, 6, 7, 0]"
      ]
     },
     "execution_count": 46,
     "metadata": {},
     "output_type": "execute_result"
    }
   ],
   "source": [
    "### Move the blank to a new state\n",
    "\n",
    "def up(state):\n",
    "#  blank moves 3 steps left\n",
    "    i = state.index(0)\n",
    "    state[i], state[i-3] = state[i-3], state[i]\n",
    "    return state\n",
    "\n",
    "def down(state):\n",
    "#  blank moves 3 steps right\n",
    "    i = state.index(0)\n",
    "    state[i], state[i+3] = state[i+3], state[i]\n",
    "    return state\n",
    "\n",
    "def left(state):\n",
    "#  blank moves 1 step left\n",
    "    i = state.index(0)\n",
    "    state[i], state[i-1] = state[i-1], state[i]\n",
    "    return state\n",
    "\n",
    "def right(state):\n",
    "#  blank moves 1 step right\n",
    "    i = state.index(0)\n",
    "    state[i], state[i+1] = state[i+1], state[i]\n",
    "    return state\n",
    "\n",
    "print(initState)\n",
    "down(initState)"
   ]
  },
  {
   "cell_type": "code",
   "execution_count": 58,
   "metadata": {
    "collapsed": true
   },
   "outputs": [],
   "source": [
    "def bfs(initState):\n",
    "    frontier = [initState]\n",
    "    explored = []\n",
    "    path_to_goal = []\n",
    "    cost_of_path = 0\n",
    "    while len(frontier) > 0:\n",
    "        state = frontier[0]\n",
    "        explored.append(state)\n",
    "        if state == goalState:\n",
    "            return \"Success!\" + \\\n",
    "                    \"initial State: \" + initState + \\\n",
    "                    \"final State: \" + state + \\\n",
    "                    \"path_to_goal: \" + path_to_goal + \\\n",
    "                    \"cost_of_path: \" + cost_of_path\n",
    "        for neighbor in findNeighbors(state).values:\n",
    "            if neighbor not in frontier and neighbor not in explored:\n",
    "                frontier.append(neighbor)\n",
    "    return 'Failure'\n",
    " "
   ]
  },
  {
   "cell_type": "code",
   "execution_count": 59,
   "metadata": {
    "collapsed": false
   },
   "outputs": [
    {
     "ename": "TypeError",
     "evalue": "'builtin_function_or_method' object is not iterable",
     "output_type": "error",
     "traceback": [
      "\u001b[0;31m---------------------------------------------------------------\u001b[0m",
      "\u001b[0;31mTypeError\u001b[0m                     Traceback (most recent call last)",
      "\u001b[0;32m<ipython-input-59-45d74678f7ed>\u001b[0m in \u001b[0;36m<module>\u001b[0;34m()\u001b[0m\n\u001b[0;32m----> 1\u001b[0;31m \u001b[0mbfs\u001b[0m\u001b[0;34m(\u001b[0m\u001b[0minitState\u001b[0m\u001b[0;34m)\u001b[0m\u001b[0;34m\u001b[0m\u001b[0m\n\u001b[0m",
      "\u001b[0;32m<ipython-input-58-e01cbdb80a9b>\u001b[0m in \u001b[0;36mbfs\u001b[0;34m(initState)\u001b[0m\n\u001b[1;32m      9\u001b[0m         \u001b[0;32mif\u001b[0m \u001b[0mstate\u001b[0m \u001b[0;34m==\u001b[0m \u001b[0mgoalState\u001b[0m\u001b[0;34m:\u001b[0m\u001b[0;34m\u001b[0m\u001b[0m\n\u001b[1;32m     10\u001b[0m             \u001b[0;32mreturn\u001b[0m \u001b[0;34m\"Success!\"\u001b[0m \u001b[0;34m+\u001b[0m                     \u001b[0;34m\"initial State: \"\u001b[0m \u001b[0;34m+\u001b[0m \u001b[0minitState\u001b[0m \u001b[0;34m+\u001b[0m                     \u001b[0;34m\"final State: \"\u001b[0m \u001b[0;34m+\u001b[0m \u001b[0mstate\u001b[0m \u001b[0;34m+\u001b[0m                     \u001b[0;34m\"path_to_goal: \"\u001b[0m \u001b[0;34m+\u001b[0m \u001b[0mpath_to_goal\u001b[0m \u001b[0;34m+\u001b[0m                     \u001b[0;34m\"cost_of_path: \"\u001b[0m \u001b[0;34m+\u001b[0m \u001b[0mcost_of_path\u001b[0m\u001b[0;34m\u001b[0m\u001b[0m\n\u001b[0;32m---> 11\u001b[0;31m         \u001b[0;32mfor\u001b[0m \u001b[0mneighbor\u001b[0m \u001b[0;32min\u001b[0m \u001b[0mfindNeighbors\u001b[0m\u001b[0;34m(\u001b[0m\u001b[0mstate\u001b[0m\u001b[0;34m)\u001b[0m\u001b[0;34m.\u001b[0m\u001b[0mvalues\u001b[0m\u001b[0;34m:\u001b[0m\u001b[0;34m\u001b[0m\u001b[0m\n\u001b[0m\u001b[1;32m     12\u001b[0m             \u001b[0;32mif\u001b[0m \u001b[0mneighbor\u001b[0m \u001b[0;32mnot\u001b[0m \u001b[0;32min\u001b[0m \u001b[0mfrontier\u001b[0m \u001b[0;32mand\u001b[0m \u001b[0mneighbor\u001b[0m \u001b[0;32mnot\u001b[0m \u001b[0;32min\u001b[0m \u001b[0mexplored\u001b[0m\u001b[0;34m:\u001b[0m\u001b[0;34m\u001b[0m\u001b[0m\n\u001b[1;32m     13\u001b[0m                 \u001b[0mfrontier\u001b[0m\u001b[0;34m.\u001b[0m\u001b[0mappend\u001b[0m\u001b[0;34m(\u001b[0m\u001b[0mneighbor\u001b[0m\u001b[0;34m)\u001b[0m\u001b[0;34m\u001b[0m\u001b[0m\n",
      "\u001b[0;31mTypeError\u001b[0m: 'builtin_function_or_method' object is not iterable"
     ]
    }
   ],
   "source": [
    "bfs(initState)"
   ]
  },
  {
   "cell_type": "code",
   "execution_count": null,
   "metadata": {
    "collapsed": true
   },
   "outputs": [],
   "source": []
  }
 ],
 "metadata": {
  "anaconda-cloud": {},
  "kernelspec": {
   "display_name": "Python [default]",
   "language": "python",
   "name": "python2"
  },
  "language_info": {
   "codemirror_mode": {
    "name": "ipython",
    "version": 2
   },
   "file_extension": ".py",
   "mimetype": "text/x-python",
   "name": "python",
   "nbconvert_exporter": "python",
   "pygments_lexer": "ipython2",
   "version": "2.7.12"
  }
 },
 "nbformat": 4,
 "nbformat_minor": 1
}
